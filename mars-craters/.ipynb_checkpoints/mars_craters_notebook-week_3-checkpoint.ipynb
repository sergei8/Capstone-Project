{
 "cells": [
  {
   "cell_type": "markdown",
   "metadata": {},
   "source": [
    "# Week 3 Assignment\n",
    "### choose features and observations, make some statistics and calculations for understanding dataset"
   ]
  },
  {
   "cell_type": "code",
   "execution_count": 1,
   "metadata": {},
   "outputs": [],
   "source": [
    "# import necessary modules\n",
    "import pandas as pd\n",
    "import numpy as np"
   ]
  },
  {
   "cell_type": "code",
   "execution_count": 2,
   "metadata": {},
   "outputs": [
    {
     "data": {
      "text/html": [
       "<div>\n",
       "<style>\n",
       "    .dataframe thead tr:only-child th {\n",
       "        text-align: right;\n",
       "    }\n",
       "\n",
       "    .dataframe thead th {\n",
       "        text-align: left;\n",
       "    }\n",
       "\n",
       "    .dataframe tbody tr th {\n",
       "        vertical-align: top;\n",
       "    }\n",
       "</style>\n",
       "<table border=\"1\" class=\"dataframe\">\n",
       "  <thead>\n",
       "    <tr style=\"text-align: right;\">\n",
       "      <th></th>\n",
       "      <th>CRATER_ID</th>\n",
       "      <th>CRATER_NAME</th>\n",
       "      <th>LATITUDE_CIRCLE_IMAGE</th>\n",
       "      <th>LONGITUDE_CIRCLE_IMAGE</th>\n",
       "      <th>DIAM_CIRCLE_IMAGE</th>\n",
       "      <th>DEPTH_RIMFLOOR_TOPOG</th>\n",
       "      <th>MORPHOLOGY_EJECTA_1</th>\n",
       "      <th>MORPHOLOGY_EJECTA_2</th>\n",
       "      <th>MORPHOLOGY_EJECTA_3</th>\n",
       "      <th>NUMBER_LAYERS</th>\n",
       "    </tr>\n",
       "  </thead>\n",
       "  <tbody>\n",
       "    <tr>\n",
       "      <th>0</th>\n",
       "      <td>01-000000</td>\n",
       "      <td></td>\n",
       "      <td>84.367</td>\n",
       "      <td>108.746</td>\n",
       "      <td>82.10</td>\n",
       "      <td>0.22</td>\n",
       "      <td></td>\n",
       "      <td></td>\n",
       "      <td></td>\n",
       "      <td>0</td>\n",
       "    </tr>\n",
       "    <tr>\n",
       "      <th>1</th>\n",
       "      <td>01-000001</td>\n",
       "      <td>Korolev</td>\n",
       "      <td>72.760</td>\n",
       "      <td>164.464</td>\n",
       "      <td>82.02</td>\n",
       "      <td>1.97</td>\n",
       "      <td>Rd/MLERS</td>\n",
       "      <td>HuBL</td>\n",
       "      <td></td>\n",
       "      <td>3</td>\n",
       "    </tr>\n",
       "    <tr>\n",
       "      <th>2</th>\n",
       "      <td>01-000002</td>\n",
       "      <td></td>\n",
       "      <td>69.244</td>\n",
       "      <td>-27.240</td>\n",
       "      <td>79.63</td>\n",
       "      <td>0.09</td>\n",
       "      <td></td>\n",
       "      <td></td>\n",
       "      <td></td>\n",
       "      <td>0</td>\n",
       "    </tr>\n",
       "    <tr>\n",
       "      <th>3</th>\n",
       "      <td>01-000003</td>\n",
       "      <td></td>\n",
       "      <td>70.107</td>\n",
       "      <td>160.575</td>\n",
       "      <td>74.81</td>\n",
       "      <td>0.13</td>\n",
       "      <td></td>\n",
       "      <td></td>\n",
       "      <td></td>\n",
       "      <td>0</td>\n",
       "    </tr>\n",
       "    <tr>\n",
       "      <th>4</th>\n",
       "      <td>01-000004</td>\n",
       "      <td></td>\n",
       "      <td>77.996</td>\n",
       "      <td>95.617</td>\n",
       "      <td>73.53</td>\n",
       "      <td>0.11</td>\n",
       "      <td></td>\n",
       "      <td></td>\n",
       "      <td></td>\n",
       "      <td>0</td>\n",
       "    </tr>\n",
       "  </tbody>\n",
       "</table>\n",
       "</div>"
      ],
      "text/plain": [
       "   CRATER_ID CRATER_NAME  LATITUDE_CIRCLE_IMAGE  LONGITUDE_CIRCLE_IMAGE  \\\n",
       "0  01-000000                             84.367                 108.746   \n",
       "1  01-000001     Korolev                 72.760                 164.464   \n",
       "2  01-000002                             69.244                 -27.240   \n",
       "3  01-000003                             70.107                 160.575   \n",
       "4  01-000004                             77.996                  95.617   \n",
       "\n",
       "   DIAM_CIRCLE_IMAGE  DEPTH_RIMFLOOR_TOPOG MORPHOLOGY_EJECTA_1  \\\n",
       "0              82.10                  0.22                       \n",
       "1              82.02                  1.97            Rd/MLERS   \n",
       "2              79.63                  0.09                       \n",
       "3              74.81                  0.13                       \n",
       "4              73.53                  0.11                       \n",
       "\n",
       "  MORPHOLOGY_EJECTA_2 MORPHOLOGY_EJECTA_3  NUMBER_LAYERS  \n",
       "0                                                      0  \n",
       "1                HuBL                                  3  \n",
       "2                                                      0  \n",
       "3                                                      0  \n",
       "4                                                      0  "
      ]
     },
     "execution_count": 2,
     "metadata": {},
     "output_type": "execute_result"
    }
   ],
   "source": [
    "# load NASA Global Martian Crater Database into `nasa_df` dataframe\n",
    "nasa_df = pd.read_csv('marscrater_pds.csv')\n",
    "\n",
    "# print head of `nasa_df` \n",
    "nasa_df.head()"
   ]
  },
  {
   "cell_type": "code",
   "execution_count": 3,
   "metadata": {},
   "outputs": [],
   "source": [
    "# repair broken label `CRATER_ID` in the original dataset\n",
    "cols = list(nasa_df.columns)\n",
    "cols[0] = 'CRATER_ID'\n",
    "nasa_df.columns = cols"
   ]
  },
  {
   "cell_type": "markdown",
   "metadata": {},
   "source": [
    "### Step 1. Extract fields from original dataset  which need for our resarch:\n",
    "- CRATER_ID\n",
    "- LATITUDE_CIRCLE_IMAGE\n",
    "- LATITUDE_CIRCLE_IMAGE\n",
    "- DIAM_CIRCLE_IMAGE\n",
    "- DEPTH_RIMFLOOR_TOPOG"
   ]
  },
  {
   "cell_type": "code",
   "execution_count": 4,
   "metadata": {},
   "outputs": [
    {
     "data": {
      "text/html": [
       "<div>\n",
       "<style>\n",
       "    .dataframe thead tr:only-child th {\n",
       "        text-align: right;\n",
       "    }\n",
       "\n",
       "    .dataframe thead th {\n",
       "        text-align: left;\n",
       "    }\n",
       "\n",
       "    .dataframe tbody tr th {\n",
       "        vertical-align: top;\n",
       "    }\n",
       "</style>\n",
       "<table border=\"1\" class=\"dataframe\">\n",
       "  <thead>\n",
       "    <tr style=\"text-align: right;\">\n",
       "      <th></th>\n",
       "      <th>CRATER_ID</th>\n",
       "      <th>LATITUDE_CIRCLE_IMAGE</th>\n",
       "      <th>LATITUDE_CIRCLE_IMAGE</th>\n",
       "      <th>DIAM_CIRCLE_IMAGE</th>\n",
       "      <th>DEPTH_RIMFLOOR_TOPOG</th>\n",
       "    </tr>\n",
       "  </thead>\n",
       "  <tbody>\n",
       "    <tr>\n",
       "      <th>0</th>\n",
       "      <td>01-000000</td>\n",
       "      <td>84.367</td>\n",
       "      <td>84.367</td>\n",
       "      <td>82.10</td>\n",
       "      <td>0.22</td>\n",
       "    </tr>\n",
       "    <tr>\n",
       "      <th>1</th>\n",
       "      <td>01-000001</td>\n",
       "      <td>72.760</td>\n",
       "      <td>72.760</td>\n",
       "      <td>82.02</td>\n",
       "      <td>1.97</td>\n",
       "    </tr>\n",
       "    <tr>\n",
       "      <th>2</th>\n",
       "      <td>01-000002</td>\n",
       "      <td>69.244</td>\n",
       "      <td>69.244</td>\n",
       "      <td>79.63</td>\n",
       "      <td>0.09</td>\n",
       "    </tr>\n",
       "    <tr>\n",
       "      <th>3</th>\n",
       "      <td>01-000003</td>\n",
       "      <td>70.107</td>\n",
       "      <td>70.107</td>\n",
       "      <td>74.81</td>\n",
       "      <td>0.13</td>\n",
       "    </tr>\n",
       "    <tr>\n",
       "      <th>4</th>\n",
       "      <td>01-000004</td>\n",
       "      <td>77.996</td>\n",
       "      <td>77.996</td>\n",
       "      <td>73.53</td>\n",
       "      <td>0.11</td>\n",
       "    </tr>\n",
       "  </tbody>\n",
       "</table>\n",
       "</div>"
      ],
      "text/plain": [
       "   CRATER_ID  LATITUDE_CIRCLE_IMAGE  LATITUDE_CIRCLE_IMAGE  DIAM_CIRCLE_IMAGE  \\\n",
       "0  01-000000                 84.367                 84.367              82.10   \n",
       "1  01-000001                 72.760                 72.760              82.02   \n",
       "2  01-000002                 69.244                 69.244              79.63   \n",
       "3  01-000003                 70.107                 70.107              74.81   \n",
       "4  01-000004                 77.996                 77.996              73.53   \n",
       "\n",
       "   DEPTH_RIMFLOOR_TOPOG  \n",
       "0                  0.22  \n",
       "1                  1.97  \n",
       "2                  0.09  \n",
       "3                  0.13  \n",
       "4                  0.11  "
      ]
     },
     "execution_count": 4,
     "metadata": {},
     "output_type": "execute_result"
    }
   ],
   "source": [
    "# create new dataframe `data` from `nasa_df`\n",
    "data = nasa_df[['CRATER_ID', 'LATITUDE_CIRCLE_IMAGE', 'LATITUDE_CIRCLE_IMAGE', \n",
    "         'DIAM_CIRCLE_IMAGE', 'DEPTH_RIMFLOOR_TOPOG']]\n",
    "data.head()"
   ]
  },
  {
   "cell_type": "markdown",
   "metadata": {},
   "source": [
    "### Step 2. Make descriptive statistics and clean dataset"
   ]
  },
  {
   "cell_type": "code",
   "execution_count": 5,
   "metadata": {},
   "outputs": [
    {
     "name": "stdout",
     "output_type": "stream",
     "text": [
      "QTY of bad diameters =  0\n",
      "QTY of bad depth =  307539\n"
     ]
    }
   ],
   "source": [
    "# check for positive diameter and depth\n",
    "print ('QTY of bad diameters = ',data[data['DIAM_CIRCLE_IMAGE'] <= 0]['DIAM_CIRCLE_IMAGE'].count())\n",
    "print ('QTY of bad depth = ',data[data['DEPTH_RIMFLOOR_TOPOG'] <= 0]['DEPTH_RIMFLOOR_TOPOG'].count())"
   ]
  },
  {
   "cell_type": "markdown",
   "metadata": {},
   "source": [
    "#### We see too many `'bad'` magnitudes of the crater depth. Let's look at this column more carefully\n"
   ]
  },
  {
   "cell_type": "code",
   "execution_count": 6,
   "metadata": {},
   "outputs": [
    {
     "name": "stdout",
     "output_type": "stream",
     "text": [
      "QTY of negstive depth =  10\n",
      "QTY of negative depth =  307529\n"
     ]
    }
   ],
   "source": [
    "# count negative depth\n",
    "print ('QTY of negstive depth = ',data[data['DEPTH_RIMFLOOR_TOPOG'] < 0]['DEPTH_RIMFLOOR_TOPOG'].count())\n",
    "\n",
    "# count zero-value depth\n",
    "print ('QTY of negative depth = ',data[data['DEPTH_RIMFLOOR_TOPOG'] == 0]['DEPTH_RIMFLOOR_TOPOG'].count())"
   ]
  },
  {
   "cell_type": "markdown",
   "metadata": {},
   "source": [
    "#### Craters with negative & zero depth are hills or undefined and we have to exclude this observations from research"
   ]
  },
  {
   "cell_type": "code",
   "execution_count": 7,
   "metadata": {},
   "outputs": [
    {
     "name": "stdout",
     "output_type": "stream",
     "text": [
      "QTY of zero/negative depth = 0\n"
     ]
    }
   ],
   "source": [
    "# store indexes of raw with negative  and zero depth\n",
    "negative_zero_indexes = list(data[data['DEPTH_RIMFLOOR_TOPOG'] <= 0 ].index)\n",
    "\n",
    "# remove this raw from `data`\n",
    "data = data.drop(negative_zero_indexes)\n",
    "\n",
    "print ('QTY of zero/negative depth = {}'.format(data[data['DEPTH_RIMFLOOR_TOPOG'] <= 0]['DEPTH_RIMFLOOR_TOPOG'].count()))"
   ]
  },
  {
   "cell_type": "markdown",
   "metadata": {},
   "source": [
    "#### Quantiles below show  that  90% of craters belong to `not extra large` craters which conform `Newton’s approximation for the impact depth` (  [see CodeBook]https://github.com/sergei8/Project/blob/master/mars-craters/Mars_Surface_Study.pdf) ) ."
   ]
  },
  {
   "cell_type": "code",
   "execution_count": 8,
   "metadata": {
    "scrolled": false
   },
   "outputs": [
    {
     "data": {
      "text/html": [
       "<div>\n",
       "<style>\n",
       "    .dataframe thead tr:only-child th {\n",
       "        text-align: right;\n",
       "    }\n",
       "\n",
       "    .dataframe thead th {\n",
       "        text-align: left;\n",
       "    }\n",
       "\n",
       "    .dataframe tbody tr th {\n",
       "        vertical-align: top;\n",
       "    }\n",
       "</style>\n",
       "<table border=\"1\" class=\"dataframe\">\n",
       "  <thead>\n",
       "    <tr style=\"text-align: right;\">\n",
       "      <th></th>\n",
       "      <th>DIAM_CIRCLE_IMAGE</th>\n",
       "      <th>DEPTH_RIMFLOOR_TOPOG</th>\n",
       "    </tr>\n",
       "  </thead>\n",
       "  <tbody>\n",
       "    <tr>\n",
       "      <th>0.0</th>\n",
       "      <td>1.060</td>\n",
       "      <td>0.01</td>\n",
       "    </tr>\n",
       "    <tr>\n",
       "      <th>0.1</th>\n",
       "      <td>2.550</td>\n",
       "      <td>0.06</td>\n",
       "    </tr>\n",
       "    <tr>\n",
       "      <th>0.2</th>\n",
       "      <td>3.320</td>\n",
       "      <td>0.10</td>\n",
       "    </tr>\n",
       "    <tr>\n",
       "      <th>0.3</th>\n",
       "      <td>3.890</td>\n",
       "      <td>0.14</td>\n",
       "    </tr>\n",
       "    <tr>\n",
       "      <th>0.4</th>\n",
       "      <td>4.720</td>\n",
       "      <td>0.20</td>\n",
       "    </tr>\n",
       "    <tr>\n",
       "      <th>0.5</th>\n",
       "      <td>5.880</td>\n",
       "      <td>0.27</td>\n",
       "    </tr>\n",
       "    <tr>\n",
       "      <th>0.6</th>\n",
       "      <td>7.560</td>\n",
       "      <td>0.35</td>\n",
       "    </tr>\n",
       "    <tr>\n",
       "      <th>0.7</th>\n",
       "      <td>10.160</td>\n",
       "      <td>0.46</td>\n",
       "    </tr>\n",
       "    <tr>\n",
       "      <th>0.8</th>\n",
       "      <td>14.860</td>\n",
       "      <td>0.60</td>\n",
       "    </tr>\n",
       "    <tr>\n",
       "      <th>0.9</th>\n",
       "      <td>24.917</td>\n",
       "      <td>0.84</td>\n",
       "    </tr>\n",
       "  </tbody>\n",
       "</table>\n",
       "</div>"
      ],
      "text/plain": [
       "     DIAM_CIRCLE_IMAGE  DEPTH_RIMFLOOR_TOPOG\n",
       "0.0              1.060                  0.01\n",
       "0.1              2.550                  0.06\n",
       "0.2              3.320                  0.10\n",
       "0.3              3.890                  0.14\n",
       "0.4              4.720                  0.20\n",
       "0.5              5.880                  0.27\n",
       "0.6              7.560                  0.35\n",
       "0.7             10.160                  0.46\n",
       "0.8             14.860                  0.60\n",
       "0.9             24.917                  0.84"
      ]
     },
     "execution_count": 8,
     "metadata": {},
     "output_type": "execute_result"
    }
   ],
   "source": [
    "data[['DIAM_CIRCLE_IMAGE','DEPTH_RIMFLOOR_TOPOG']].quantile(np.arange(0, 1, .1))"
   ]
  },
  {
   "cell_type": "code",
   "execution_count": 9,
   "metadata": {},
   "outputs": [
    {
     "data": {
      "text/html": [
       "<div>\n",
       "<style>\n",
       "    .dataframe thead tr:only-child th {\n",
       "        text-align: right;\n",
       "    }\n",
       "\n",
       "    .dataframe thead th {\n",
       "        text-align: left;\n",
       "    }\n",
       "\n",
       "    .dataframe tbody tr th {\n",
       "        vertical-align: top;\n",
       "    }\n",
       "</style>\n",
       "<table border=\"1\" class=\"dataframe\">\n",
       "  <thead>\n",
       "    <tr style=\"text-align: right;\">\n",
       "      <th></th>\n",
       "      <th>DIAM_CIRCLE_IMAGE</th>\n",
       "      <th>DEPTH_RIMFLOOR_TOPOG</th>\n",
       "    </tr>\n",
       "  </thead>\n",
       "  <tbody>\n",
       "    <tr>\n",
       "      <th>count</th>\n",
       "      <td>76804.000000</td>\n",
       "      <td>76804.000000</td>\n",
       "    </tr>\n",
       "    <tr>\n",
       "      <th>mean</th>\n",
       "      <td>11.061201</td>\n",
       "      <td>0.379514</td>\n",
       "    </tr>\n",
       "    <tr>\n",
       "      <th>std</th>\n",
       "      <td>15.619762</td>\n",
       "      <td>0.360978</td>\n",
       "    </tr>\n",
       "    <tr>\n",
       "      <th>min</th>\n",
       "      <td>1.060000</td>\n",
       "      <td>0.010000</td>\n",
       "    </tr>\n",
       "    <tr>\n",
       "      <th>25%</th>\n",
       "      <td>3.580000</td>\n",
       "      <td>0.120000</td>\n",
       "    </tr>\n",
       "    <tr>\n",
       "      <th>50%</th>\n",
       "      <td>5.880000</td>\n",
       "      <td>0.270000</td>\n",
       "    </tr>\n",
       "    <tr>\n",
       "      <th>75%</th>\n",
       "      <td>12.150000</td>\n",
       "      <td>0.520000</td>\n",
       "    </tr>\n",
       "    <tr>\n",
       "      <th>max</th>\n",
       "      <td>512.750000</td>\n",
       "      <td>4.950000</td>\n",
       "    </tr>\n",
       "  </tbody>\n",
       "</table>\n",
       "</div>"
      ],
      "text/plain": [
       "       DIAM_CIRCLE_IMAGE  DEPTH_RIMFLOOR_TOPOG\n",
       "count       76804.000000          76804.000000\n",
       "mean           11.061201              0.379514\n",
       "std            15.619762              0.360978\n",
       "min             1.060000              0.010000\n",
       "25%             3.580000              0.120000\n",
       "50%             5.880000              0.270000\n",
       "75%            12.150000              0.520000\n",
       "max           512.750000              4.950000"
      ]
     },
     "execution_count": 9,
     "metadata": {},
     "output_type": "execute_result"
    }
   ],
   "source": [
    "# some usefull statistics\n",
    "data[['DIAM_CIRCLE_IMAGE','DEPTH_RIMFLOOR_TOPOG']].describe()"
   ]
  },
  {
   "cell_type": "code",
   "execution_count": 10,
   "metadata": {},
   "outputs": [],
   "source": [
    "# remove all raws with diameter > 50km (extra large meteors/craters)\n",
    "data = data.drop(data[data.DIAM_CIRCLE_IMAGE > 50].index)"
   ]
  },
  {
   "cell_type": "markdown",
   "metadata": {},
   "source": [
    "#### Make a new future: Depth / Diameter which we will use for analyse."
   ]
  },
  {
   "cell_type": "code",
   "execution_count": 11,
   "metadata": {
    "scrolled": false
   },
   "outputs": [
    {
     "data": {
      "text/html": [
       "<div>\n",
       "<style>\n",
       "    .dataframe thead tr:only-child th {\n",
       "        text-align: right;\n",
       "    }\n",
       "\n",
       "    .dataframe thead th {\n",
       "        text-align: left;\n",
       "    }\n",
       "\n",
       "    .dataframe tbody tr th {\n",
       "        vertical-align: top;\n",
       "    }\n",
       "</style>\n",
       "<table border=\"1\" class=\"dataframe\">\n",
       "  <thead>\n",
       "    <tr style=\"text-align: right;\">\n",
       "      <th></th>\n",
       "      <th>CRATER_ID</th>\n",
       "      <th>DEPTH_DIAM_RATIO</th>\n",
       "    </tr>\n",
       "  </thead>\n",
       "  <tbody>\n",
       "    <tr>\n",
       "      <th>13</th>\n",
       "      <td>01-000013</td>\n",
       "      <td>0.003214</td>\n",
       "    </tr>\n",
       "    <tr>\n",
       "      <th>14</th>\n",
       "      <td>01-000014</td>\n",
       "      <td>0.002832</td>\n",
       "    </tr>\n",
       "    <tr>\n",
       "      <th>15</th>\n",
       "      <td>01-000015</td>\n",
       "      <td>0.021704</td>\n",
       "    </tr>\n",
       "    <tr>\n",
       "      <th>16</th>\n",
       "      <td>01-000016</td>\n",
       "      <td>0.001858</td>\n",
       "    </tr>\n",
       "    <tr>\n",
       "      <th>17</th>\n",
       "      <td>01-000017</td>\n",
       "      <td>0.000847</td>\n",
       "    </tr>\n",
       "  </tbody>\n",
       "</table>\n",
       "</div>"
      ],
      "text/plain": [
       "    CRATER_ID  DEPTH_DIAM_RATIO\n",
       "13  01-000013          0.003214\n",
       "14  01-000014          0.002832\n",
       "15  01-000015          0.021704\n",
       "16  01-000016          0.001858\n",
       "17  01-000017          0.000847"
      ]
     },
     "execution_count": 11,
     "metadata": {},
     "output_type": "execute_result"
    }
   ],
   "source": [
    "data['DEPTH_DIAM_RATIO'] = data['DEPTH_RIMFLOOR_TOPOG'] / data['DIAM_CIRCLE_IMAGE']\n",
    "data[['CRATER_ID','DEPTH_DIAM_RATIO']].head()"
   ]
  },
  {
   "cell_type": "markdown",
   "metadata": {},
   "source": [
    "### Visualize and exploratory analyse of the dataset"
   ]
  },
  {
   "cell_type": "code",
   "execution_count": 13,
   "metadata": {},
   "outputs": [],
   "source": [
    "import matplotlib.pylab as plt\n",
    "%matplotlib inline"
   ]
  },
  {
   "cell_type": "markdown",
   "metadata": {},
   "source": [
    "### Show distribution of diameter and depth variables."
   ]
  },
  {
   "cell_type": "code",
   "execution_count": 14,
   "metadata": {
    "scrolled": true
   },
   "outputs": [
    {
     "data": {
      "image/png": "[encoded data removed]",
      "text/plain": [
       "<Figure size 432x288 with 1 Axes>"
      ]
     },
     "metadata": {},
     "output_type": "display_data"
    }
   ],
   "source": [
    "# find polynomials coefficients and plot dependancies graph\n",
    "coef = np.polyfit(data['DIAM_CIRCLE_IMAGE'], data['DEPTH_RIMFLOOR_TOPOG'], deg=1)\n",
    "plt.plot(data['DIAM_CIRCLE_IMAGE'], coef[0] * data['DIAM_CIRCLE_IMAGE'] + coef[1], \n",
    "         '-', label='real dependency' )\n",
    "\n",
    "plt.plot(data['DIAM_CIRCLE_IMAGE'],data['DIAM_CIRCLE_IMAGE']/3.,'-', label='theoretical dependency')\n",
    "\n",
    "plt.legend(loc=0)\n",
    "plt.xlabel('diameter')\n",
    "plt.ylabel('depth')\n",
    "plt.title('Depth to diameter dependency')\n",
    "\n",
    "plt.show()"
   ]
  },
  {
   "cell_type": "code",
   "execution_count": 97,
   "metadata": {},
   "outputs": [
    {
     "data": {
      "image/png": "[encoded data removed]",
      "text/plain": [
       "<Figure size 432x288 with 1 Axes>"
      ]
     },
     "metadata": {},
     "output_type": "display_data"
    },
    {
     "data": {
      "text/html": [
       "<div>\n",
       "<style>\n",
       "    .dataframe thead tr:only-child th {\n",
       "        text-align: right;\n",
       "    }\n",
       "\n",
       "    .dataframe thead th {\n",
       "        text-align: left;\n",
       "    }\n",
       "\n",
       "    .dataframe tbody tr th {\n",
       "        vertical-align: top;\n",
       "    }\n",
       "</style>\n",
       "<table border=\"1\" class=\"dataframe\">\n",
       "  <thead>\n",
       "    <tr style=\"text-align: right;\">\n",
       "      <th></th>\n",
       "      <th>count</th>\n",
       "      <th>mean</th>\n",
       "      <th>std</th>\n",
       "      <th>min</th>\n",
       "      <th>25%</th>\n",
       "      <th>50%</th>\n",
       "      <th>75%</th>\n",
       "      <th>max</th>\n",
       "    </tr>\n",
       "    <tr>\n",
       "      <th>DIAM_CIRCLE_IMAGE</th>\n",
       "      <th></th>\n",
       "      <th></th>\n",
       "      <th></th>\n",
       "      <th></th>\n",
       "      <th></th>\n",
       "      <th></th>\n",
       "      <th></th>\n",
       "      <th></th>\n",
       "    </tr>\n",
       "  </thead>\n",
       "  <tbody>\n",
       "    <tr>\n",
       "      <th>(0, 10]</th>\n",
       "      <td>53390.0</td>\n",
       "      <td>4.759639</td>\n",
       "      <td>2.128546</td>\n",
       "      <td>1.06</td>\n",
       "      <td>3.19</td>\n",
       "      <td>4.250</td>\n",
       "      <td>6.1700</td>\n",
       "      <td>10.0</td>\n",
       "    </tr>\n",
       "    <tr>\n",
       "      <th>(10, 20]</th>\n",
       "      <td>12850.0</td>\n",
       "      <td>14.049859</td>\n",
       "      <td>2.827887</td>\n",
       "      <td>10.01</td>\n",
       "      <td>11.57</td>\n",
       "      <td>13.590</td>\n",
       "      <td>16.2600</td>\n",
       "      <td>20.0</td>\n",
       "    </tr>\n",
       "    <tr>\n",
       "      <th>(20, 30]</th>\n",
       "      <td>4918.0</td>\n",
       "      <td>24.371484</td>\n",
       "      <td>2.856299</td>\n",
       "      <td>20.01</td>\n",
       "      <td>21.83</td>\n",
       "      <td>24.100</td>\n",
       "      <td>26.6900</td>\n",
       "      <td>30.0</td>\n",
       "    </tr>\n",
       "    <tr>\n",
       "      <th>(30, 40]</th>\n",
       "      <td>2338.0</td>\n",
       "      <td>34.498725</td>\n",
       "      <td>2.855197</td>\n",
       "      <td>30.01</td>\n",
       "      <td>31.97</td>\n",
       "      <td>34.235</td>\n",
       "      <td>36.8925</td>\n",
       "      <td>40.0</td>\n",
       "    </tr>\n",
       "    <tr>\n",
       "      <th>(40, 50]</th>\n",
       "      <td>1307.0</td>\n",
       "      <td>44.517743</td>\n",
       "      <td>2.854560</td>\n",
       "      <td>40.02</td>\n",
       "      <td>41.99</td>\n",
       "      <td>44.210</td>\n",
       "      <td>46.8600</td>\n",
       "      <td>50.0</td>\n",
       "    </tr>\n",
       "  </tbody>\n",
       "</table>\n",
       "</div>"
      ],
      "text/plain": [
       "                     count       mean       std    min    25%     50%  \\\n",
       "DIAM_CIRCLE_IMAGE                                                       \n",
       "(0, 10]            53390.0   4.759639  2.128546   1.06   3.19   4.250   \n",
       "(10, 20]           12850.0  14.049859  2.827887  10.01  11.57  13.590   \n",
       "(20, 30]            4918.0  24.371484  2.856299  20.01  21.83  24.100   \n",
       "(30, 40]            2338.0  34.498725  2.855197  30.01  31.97  34.235   \n",
       "(40, 50]            1307.0  44.517743  2.854560  40.02  41.99  44.210   \n",
       "\n",
       "                       75%   max  \n",
       "DIAM_CIRCLE_IMAGE                 \n",
       "(0, 10]             6.1700  10.0  \n",
       "(10, 20]           16.2600  20.0  \n",
       "(20, 30]           26.6900  30.0  \n",
       "(30, 40]           36.8925  40.0  \n",
       "(40, 50]           46.8600  50.0  "
      ]
     },
     "execution_count": 97,
     "metadata": {},
     "output_type": "execute_result"
    }
   ],
   "source": [
    "bins = [0, 10, 20, 30, 40, 50]\n",
    "plt.hist(data['DIAM_CIRCLE_IMAGE'],bins)\n",
    "\n",
    "plt.xlabel('diameter')\n",
    "plt.ylabel('QTY')\n",
    "plt.title('Craters distribution by diameter')\n",
    "\n",
    "plt.show()\n",
    "\n",
    "groups = data.DIAM_CIRCLE_IMAGE.groupby(pd.cut(data.DIAM_CIRCLE_IMAGE, bins), sort=True)\n",
    "groups.describe()"
   ]
  },
  {
   "cell_type": "code",
   "execution_count": 98,
   "metadata": {},
   "outputs": [
    {
     "data": {
      "image/png": "[encoded data removed]",
      "text/plain": [
       "<Figure size 432x288 with 1 Axes>"
      ]
     },
     "metadata": {},
     "output_type": "display_data"
    }
   ],
   "source": [
    "bins =  [0, 1, 2, 3, 4, 5]\n",
    "plt.hist(data['DEPTH_RIMFLOOR_TOPOG'], bins)\n",
    "plt.xlabel('depth')\n",
    "plt.ylabel('QTY')\n",
    "plt.title('Craters distribution by depth')\n",
    "\n",
    "plt.show()"
   ]
  },
  {
   "cell_type": "code",
   "execution_count": 93,
   "metadata": {
    "scrolled": false
   },
   "outputs": [
    {
     "data": {
      "text/html": [
       "<div>\n",
       "<style>\n",
       "    .dataframe thead tr:only-child th {\n",
       "        text-align: right;\n",
       "    }\n",
       "\n",
       "    .dataframe thead th {\n",
       "        text-align: left;\n",
       "    }\n",
       "\n",
       "    .dataframe tbody tr th {\n",
       "        vertical-align: top;\n",
       "    }\n",
       "</style>\n",
       "<table border=\"1\" class=\"dataframe\">\n",
       "  <thead>\n",
       "    <tr style=\"text-align: right;\">\n",
       "      <th></th>\n",
       "      <th>count</th>\n",
       "      <th>mean</th>\n",
       "      <th>std</th>\n",
       "      <th>min</th>\n",
       "      <th>25%</th>\n",
       "      <th>50%</th>\n",
       "      <th>75%</th>\n",
       "      <th>max</th>\n",
       "    </tr>\n",
       "    <tr>\n",
       "      <th>DEPTH_RIMFLOOR_TOPOG</th>\n",
       "      <th></th>\n",
       "      <th></th>\n",
       "      <th></th>\n",
       "      <th></th>\n",
       "      <th></th>\n",
       "      <th></th>\n",
       "      <th></th>\n",
       "      <th></th>\n",
       "    </tr>\n",
       "  </thead>\n",
       "  <tbody>\n",
       "    <tr>\n",
       "      <th>(0, 1]</th>\n",
       "      <td>70979.0</td>\n",
       "      <td>0.309767</td>\n",
       "      <td>0.239114</td>\n",
       "      <td>0.01</td>\n",
       "      <td>0.110</td>\n",
       "      <td>0.24</td>\n",
       "      <td>0.460</td>\n",
       "      <td>1.00</td>\n",
       "    </tr>\n",
       "    <tr>\n",
       "      <th>(1, 2]</th>\n",
       "      <td>3714.0</td>\n",
       "      <td>1.287229</td>\n",
       "      <td>0.238205</td>\n",
       "      <td>1.01</td>\n",
       "      <td>1.100</td>\n",
       "      <td>1.22</td>\n",
       "      <td>1.420</td>\n",
       "      <td>2.00</td>\n",
       "    </tr>\n",
       "    <tr>\n",
       "      <th>(2, 3]</th>\n",
       "      <td>107.0</td>\n",
       "      <td>2.159065</td>\n",
       "      <td>0.132363</td>\n",
       "      <td>2.01</td>\n",
       "      <td>2.065</td>\n",
       "      <td>2.12</td>\n",
       "      <td>2.220</td>\n",
       "      <td>2.57</td>\n",
       "    </tr>\n",
       "    <tr>\n",
       "      <th>(3, 4]</th>\n",
       "      <td>2.0</td>\n",
       "      <td>3.090000</td>\n",
       "      <td>0.014142</td>\n",
       "      <td>3.08</td>\n",
       "      <td>3.085</td>\n",
       "      <td>3.09</td>\n",
       "      <td>3.095</td>\n",
       "      <td>3.10</td>\n",
       "    </tr>\n",
       "    <tr>\n",
       "      <th>(4, 5]</th>\n",
       "      <td>1.0</td>\n",
       "      <td>4.750000</td>\n",
       "      <td>NaN</td>\n",
       "      <td>4.75</td>\n",
       "      <td>4.750</td>\n",
       "      <td>4.75</td>\n",
       "      <td>4.750</td>\n",
       "      <td>4.75</td>\n",
       "    </tr>\n",
       "  </tbody>\n",
       "</table>\n",
       "</div>"
      ],
      "text/plain": [
       "                        count      mean       std   min    25%   50%    75%  \\\n",
       "DEPTH_RIMFLOOR_TOPOG                                                          \n",
       "(0, 1]                70979.0  0.309767  0.239114  0.01  0.110  0.24  0.460   \n",
       "(1, 2]                 3714.0  1.287229  0.238205  1.01  1.100  1.22  1.420   \n",
       "(2, 3]                  107.0  2.159065  0.132363  2.01  2.065  2.12  2.220   \n",
       "(3, 4]                    2.0  3.090000  0.014142  3.08  3.085  3.09  3.095   \n",
       "(4, 5]                    1.0  4.750000       NaN  4.75  4.750  4.75  4.750   \n",
       "\n",
       "                       max  \n",
       "DEPTH_RIMFLOOR_TOPOG        \n",
       "(0, 1]                1.00  \n",
       "(1, 2]                2.00  \n",
       "(2, 3]                2.57  \n",
       "(3, 4]                3.10  \n",
       "(4, 5]                4.75  "
      ]
     },
     "execution_count": 93,
     "metadata": {},
     "output_type": "execute_result"
    }
   ],
   "source": [
    "groups = data.DEPTH_RIMFLOOR_TOPOG.groupby(pd.cut(data.DEPTH_RIMFLOOR_TOPOG, bins), sort=True)\n",
    "groups.describe()"
   ]
  },
  {
   "cell_type": "code",
   "execution_count": 113,
   "metadata": {},
   "outputs": [
    {
     "data": {
      "image/png": "[encoded data removed]",
      "text/plain": [
       "<Figure size 432x288 with 1 Axes>"
      ]
     },
     "metadata": {},
     "output_type": "display_data"
    }
   ],
   "source": [
    "plt.hist(data['DEPTH_DIAM_RATIO'], bins=10)\n",
    "\n",
    "plt.xlabel('ratio')\n",
    "plt.ylabel('QTY')\n",
    "plt.title('Distribution of depth_to_diameter ratio')\n",
    "\n",
    "plt.show()"
   ]
  },
  {
   "cell_type": "code",
   "execution_count": 126,
   "metadata": {},
   "outputs": [
    {
     "data": {
      "text/html": [
       "<div>\n",
       "<style>\n",
       "    .dataframe thead tr:only-child th {\n",
       "        text-align: right;\n",
       "    }\n",
       "\n",
       "    .dataframe thead th {\n",
       "        text-align: left;\n",
       "    }\n",
       "\n",
       "    .dataframe tbody tr th {\n",
       "        vertical-align: top;\n",
       "    }\n",
       "</style>\n",
       "<table border=\"1\" class=\"dataframe\">\n",
       "  <thead>\n",
       "    <tr style=\"text-align: right;\">\n",
       "      <th></th>\n",
       "      <th>count</th>\n",
       "      <th>mean</th>\n",
       "      <th>std</th>\n",
       "      <th>min</th>\n",
       "      <th>25%</th>\n",
       "      <th>50%</th>\n",
       "      <th>75%</th>\n",
       "      <th>max</th>\n",
       "    </tr>\n",
       "    <tr>\n",
       "      <th>DEPTH_DIAM_RATIO</th>\n",
       "      <th></th>\n",
       "      <th></th>\n",
       "      <th></th>\n",
       "      <th></th>\n",
       "      <th></th>\n",
       "      <th></th>\n",
       "      <th></th>\n",
       "      <th></th>\n",
       "    </tr>\n",
       "  </thead>\n",
       "  <tbody>\n",
       "    <tr>\n",
       "      <th>(0.0, 0.05]</th>\n",
       "      <td>42867.0</td>\n",
       "      <td>0.023061</td>\n",
       "      <td>0.012603</td>\n",
       "      <td>0.000249</td>\n",
       "      <td>0.012644</td>\n",
       "      <td>0.021739</td>\n",
       "      <td>0.032404</td>\n",
       "      <td>0.050000</td>\n",
       "    </tr>\n",
       "    <tr>\n",
       "      <th>(0.05, 0.1]</th>\n",
       "      <td>20604.0</td>\n",
       "      <td>0.074002</td>\n",
       "      <td>0.014568</td>\n",
       "      <td>0.050000</td>\n",
       "      <td>0.061117</td>\n",
       "      <td>0.073563</td>\n",
       "      <td>0.086538</td>\n",
       "      <td>0.100000</td>\n",
       "    </tr>\n",
       "    <tr>\n",
       "      <th>(0.1, 0.15]</th>\n",
       "      <td>10483.0</td>\n",
       "      <td>0.118615</td>\n",
       "      <td>0.012846</td>\n",
       "      <td>0.100000</td>\n",
       "      <td>0.107595</td>\n",
       "      <td>0.116667</td>\n",
       "      <td>0.127778</td>\n",
       "      <td>0.150000</td>\n",
       "    </tr>\n",
       "    <tr>\n",
       "      <th>(0.15, 0.2]</th>\n",
       "      <td>831.0</td>\n",
       "      <td>0.163592</td>\n",
       "      <td>0.011949</td>\n",
       "      <td>0.150082</td>\n",
       "      <td>0.153846</td>\n",
       "      <td>0.159817</td>\n",
       "      <td>0.170292</td>\n",
       "      <td>0.200000</td>\n",
       "    </tr>\n",
       "    <tr>\n",
       "      <th>(0.2, 0.25]</th>\n",
       "      <td>18.0</td>\n",
       "      <td>0.208706</td>\n",
       "      <td>0.009543</td>\n",
       "      <td>0.200418</td>\n",
       "      <td>0.202365</td>\n",
       "      <td>0.205418</td>\n",
       "      <td>0.208322</td>\n",
       "      <td>0.230769</td>\n",
       "    </tr>\n",
       "  </tbody>\n",
       "</table>\n",
       "</div>"
      ],
      "text/plain": [
       "                    count      mean       std       min       25%       50%  \\\n",
       "DEPTH_DIAM_RATIO                                                              \n",
       "(0.0, 0.05]       42867.0  0.023061  0.012603  0.000249  0.012644  0.021739   \n",
       "(0.05, 0.1]       20604.0  0.074002  0.014568  0.050000  0.061117  0.073563   \n",
       "(0.1, 0.15]       10483.0  0.118615  0.012846  0.100000  0.107595  0.116667   \n",
       "(0.15, 0.2]         831.0  0.163592  0.011949  0.150082  0.153846  0.159817   \n",
       "(0.2, 0.25]          18.0  0.208706  0.009543  0.200418  0.202365  0.205418   \n",
       "\n",
       "                       75%       max  \n",
       "DEPTH_DIAM_RATIO                      \n",
       "(0.0, 0.05]       0.032404  0.050000  \n",
       "(0.05, 0.1]       0.086538  0.100000  \n",
       "(0.1, 0.15]       0.127778  0.150000  \n",
       "(0.15, 0.2]       0.170292  0.200000  \n",
       "(0.2, 0.25]       0.208322  0.230769  "
      ]
     },
     "execution_count": 126,
     "metadata": {},
     "output_type": "execute_result"
    }
   ],
   "source": [
    "groups = data.DEPTH_DIAM_RATIO.groupby(pd.cut(data.DEPTH_DIAM_RATIO, bins=np.arange(0, 0.3, 0.05)), sort=True)\n",
    "groups.describe()"
   ]
  },
  {
   "cell_type": "markdown",
   "metadata": {},
   "source": [
    "### Conclusion\n",
    "#### Plots and stat. tables above shows that real dependency has positive slope , but less then theoretical. It's explains by additional factors: surface erosion and soil density, but confirms our assume about correlation between diameter and depth"
   ]
  },
  {
   "cell_type": "code",
   "execution_count": null,
   "metadata": {},
   "outputs": [],
   "source": []
  }
 ],
 "metadata": {
  "anaconda-cloud": {},
  "kernelspec": {
   "display_name": "Python 3",
   "language": "python",
   "name": "python3"
  },
  "language_info": {
   "codemirror_mode": {
    "name": "ipython",
    "version": 3
   },
   "file_extension": ".py",
   "mimetype": "text/x-python",
   "name": "python",
   "nbconvert_exporter": "python",
   "pygments_lexer": "ipython3",
   "version": "3.6.2"
  }
 },
 "nbformat": 4,
 "nbformat_minor": 1
}
